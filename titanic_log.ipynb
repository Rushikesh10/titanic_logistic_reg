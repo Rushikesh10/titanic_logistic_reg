{
 "cells": [
  {
   "cell_type": "code",
   "execution_count": 1,
   "metadata": {},
   "outputs": [],
   "source": [
    "%matplotlib inline\n",
    "import warnings\n",
    "warnings.filterwarnings(\"ignore\")\n",
    "\n",
    "import sqlite3\n",
    "import pandas as pd\n",
    "import numpy as np\n",
    "import nltk\n",
    "import string\n",
    "import matplotlib.pyplot as plt\n",
    "import seaborn as sns\n",
    "from sklearn.feature_extraction.text import TfidfTransformer\n",
    "from sklearn.feature_extraction.text import TfidfVectorizer\n",
    "\n",
    "from sklearn.feature_extraction.text import CountVectorizer\n",
    "from sklearn.metrics import confusion_matrix\n",
    "from sklearn import metrics\n",
    "from sklearn.metrics import roc_curve, auc\n",
    "\n",
    "import re\n",
    "# Tutorial about Python regular expressions: https://pymotw.com/2/re/\n",
    "import string\n",
    "\n",
    "\n",
    "from tqdm import tqdm\n",
    "import os\n",
    "from collections import Counter\n",
    "tit= sns.load_dataset(\"titanic\")\n"
   ]
  },
  {
   "cell_type": "code",
   "execution_count": 2,
   "metadata": {},
   "outputs": [
    {
     "data": {
      "text/html": [
       "<div>\n",
       "<style scoped>\n",
       "    .dataframe tbody tr th:only-of-type {\n",
       "        vertical-align: middle;\n",
       "    }\n",
       "\n",
       "    .dataframe tbody tr th {\n",
       "        vertical-align: top;\n",
       "    }\n",
       "\n",
       "    .dataframe thead th {\n",
       "        text-align: right;\n",
       "    }\n",
       "</style>\n",
       "<table border=\"1\" class=\"dataframe\">\n",
       "  <thead>\n",
       "    <tr style=\"text-align: right;\">\n",
       "      <th></th>\n",
       "      <th>survived</th>\n",
       "      <th>pclass</th>\n",
       "      <th>sex</th>\n",
       "      <th>age</th>\n",
       "      <th>sibsp</th>\n",
       "      <th>parch</th>\n",
       "      <th>fare</th>\n",
       "      <th>embarked</th>\n",
       "      <th>class</th>\n",
       "      <th>who</th>\n",
       "      <th>adult_male</th>\n",
       "      <th>deck</th>\n",
       "      <th>embark_town</th>\n",
       "      <th>alive</th>\n",
       "      <th>alone</th>\n",
       "    </tr>\n",
       "  </thead>\n",
       "  <tbody>\n",
       "    <tr>\n",
       "      <th>0</th>\n",
       "      <td>0</td>\n",
       "      <td>3</td>\n",
       "      <td>male</td>\n",
       "      <td>22.0</td>\n",
       "      <td>1</td>\n",
       "      <td>0</td>\n",
       "      <td>7.2500</td>\n",
       "      <td>S</td>\n",
       "      <td>Third</td>\n",
       "      <td>man</td>\n",
       "      <td>True</td>\n",
       "      <td>NaN</td>\n",
       "      <td>Southampton</td>\n",
       "      <td>no</td>\n",
       "      <td>False</td>\n",
       "    </tr>\n",
       "    <tr>\n",
       "      <th>1</th>\n",
       "      <td>1</td>\n",
       "      <td>1</td>\n",
       "      <td>female</td>\n",
       "      <td>38.0</td>\n",
       "      <td>1</td>\n",
       "      <td>0</td>\n",
       "      <td>71.2833</td>\n",
       "      <td>C</td>\n",
       "      <td>First</td>\n",
       "      <td>woman</td>\n",
       "      <td>False</td>\n",
       "      <td>C</td>\n",
       "      <td>Cherbourg</td>\n",
       "      <td>yes</td>\n",
       "      <td>False</td>\n",
       "    </tr>\n",
       "    <tr>\n",
       "      <th>2</th>\n",
       "      <td>1</td>\n",
       "      <td>3</td>\n",
       "      <td>female</td>\n",
       "      <td>26.0</td>\n",
       "      <td>0</td>\n",
       "      <td>0</td>\n",
       "      <td>7.9250</td>\n",
       "      <td>S</td>\n",
       "      <td>Third</td>\n",
       "      <td>woman</td>\n",
       "      <td>False</td>\n",
       "      <td>NaN</td>\n",
       "      <td>Southampton</td>\n",
       "      <td>yes</td>\n",
       "      <td>True</td>\n",
       "    </tr>\n",
       "    <tr>\n",
       "      <th>3</th>\n",
       "      <td>1</td>\n",
       "      <td>1</td>\n",
       "      <td>female</td>\n",
       "      <td>35.0</td>\n",
       "      <td>1</td>\n",
       "      <td>0</td>\n",
       "      <td>53.1000</td>\n",
       "      <td>S</td>\n",
       "      <td>First</td>\n",
       "      <td>woman</td>\n",
       "      <td>False</td>\n",
       "      <td>C</td>\n",
       "      <td>Southampton</td>\n",
       "      <td>yes</td>\n",
       "      <td>False</td>\n",
       "    </tr>\n",
       "    <tr>\n",
       "      <th>4</th>\n",
       "      <td>0</td>\n",
       "      <td>3</td>\n",
       "      <td>male</td>\n",
       "      <td>35.0</td>\n",
       "      <td>0</td>\n",
       "      <td>0</td>\n",
       "      <td>8.0500</td>\n",
       "      <td>S</td>\n",
       "      <td>Third</td>\n",
       "      <td>man</td>\n",
       "      <td>True</td>\n",
       "      <td>NaN</td>\n",
       "      <td>Southampton</td>\n",
       "      <td>no</td>\n",
       "      <td>True</td>\n",
       "    </tr>\n",
       "  </tbody>\n",
       "</table>\n",
       "</div>"
      ],
      "text/plain": [
       "   survived  pclass     sex   age  sibsp  parch     fare embarked  class  \\\n",
       "0         0       3    male  22.0      1      0   7.2500        S  Third   \n",
       "1         1       1  female  38.0      1      0  71.2833        C  First   \n",
       "2         1       3  female  26.0      0      0   7.9250        S  Third   \n",
       "3         1       1  female  35.0      1      0  53.1000        S  First   \n",
       "4         0       3    male  35.0      0      0   8.0500        S  Third   \n",
       "\n",
       "     who  adult_male deck  embark_town alive  alone  \n",
       "0    man        True  NaN  Southampton    no  False  \n",
       "1  woman       False    C    Cherbourg   yes  False  \n",
       "2  woman       False  NaN  Southampton   yes   True  \n",
       "3  woman       False    C  Southampton   yes  False  \n",
       "4    man        True  NaN  Southampton    no   True  "
      ]
     },
     "execution_count": 2,
     "metadata": {},
     "output_type": "execute_result"
    }
   ],
   "source": [
    "tit.head()"
   ]
  },
  {
   "cell_type": "code",
   "execution_count": 3,
   "metadata": {},
   "outputs": [
    {
     "data": {
      "text/plain": [
       "no     549\n",
       "yes    342\n",
       "Name: alive, dtype: int64"
      ]
     },
     "execution_count": 3,
     "metadata": {},
     "output_type": "execute_result"
    }
   ],
   "source": [
    "tit['alive'].value_counts()"
   ]
  },
  {
   "cell_type": "code",
   "execution_count": 4,
   "metadata": {},
   "outputs": [],
   "source": [
    "# train test split\n",
    "\n",
    "from sklearn.model_selection import train_test_split\n",
    "X_1, X_test, y_1, y_test = train_test_split(tit, tit['alive'], test_size=0.3, random_state=0)\n",
    "X_train, X_cv, y_train, y_cv = train_test_split(X_1, y_1, test_size=0.3)"
   ]
  },
  {
   "cell_type": "code",
   "execution_count": 5,
   "metadata": {},
   "outputs": [
    {
     "name": "stdout",
     "output_type": "stream",
     "text": [
      "['Second', 'First', 'Third']\n",
      "Shape of matrix after one hot encoding  (436, 3)\n",
      "Shape of matrix after one hot encoding  (268, 3)\n",
      "Shape of matrix after one hot encoding  (187, 3)\n"
     ]
    }
   ],
   "source": [
    "my_counter = Counter()\n",
    "for classs in tit['class'].values:\n",
    "    classs = str(classs)\n",
    "    my_counter.update(classs.split())\n",
    "classs_dict = dict(my_counter)\n",
    "sorted_classs_dict = dict(sorted(classs_dict.items(), key=lambda kv: kv[1]))\n",
    "vectorizer_classs = CountVectorizer(vocabulary=list(sorted_classs_dict.keys()), lowercase=False, binary=True)\n",
    "vectorizer_classs.fit(X_train['class'].values.astype(\"U\"))\n",
    "classs_one_hot_train = vectorizer_classs.transform(X_train['class'].values.astype(\"U\"))\n",
    "classs_one_hot_test = vectorizer_classs.transform(X_test['class'].values.astype(\"U\"))\n",
    "classs_one_hot_cv = vectorizer_classs.transform(X_cv['class'].values.astype(\"U\"))\n",
    "\n",
    "print(vectorizer_classs.get_feature_names())\n",
    "\n",
    "print(\"Shape of matrix after one hot encoding \",classs_one_hot_train.shape)\n",
    "print(\"Shape of matrix after one hot encoding \",classs_one_hot_test.shape)\n",
    "print(\"Shape of matrix after one hot encoding \",classs_one_hot_cv.shape)"
   ]
  },
  {
   "cell_type": "code",
   "execution_count": 6,
   "metadata": {},
   "outputs": [
    {
     "name": "stdout",
     "output_type": "stream",
     "text": [
      "['child', 'woman', 'man']\n",
      "Shape of matrix after one hot encoding  (436, 3)\n",
      "Shape of matrix after one hot encoding  (268, 3)\n",
      "Shape of matrix after one hot encoding  (187, 3)\n"
     ]
    }
   ],
   "source": [
    "my_counter = Counter()\n",
    "for whos in tit['who'].values:\n",
    "    whos = str(whos)\n",
    "    my_counter.update(whos.split())\n",
    "whos_dict = dict(my_counter)\n",
    "sorted_whos_dict = dict(sorted(whos_dict.items(), key=lambda kv: kv[1]))\n",
    "vectorizer_whos = CountVectorizer(vocabulary=list(sorted_whos_dict.keys()), lowercase=False, binary=True)\n",
    "vectorizer_whos.fit(X_train['who'].values.astype(\"U\"))\n",
    "whos_one_hot_train = vectorizer_whos.transform(X_train['who'].values.astype(\"U\"))\n",
    "whos_one_hot_test = vectorizer_whos.transform(X_test['who'].values.astype(\"U\"))\n",
    "whos_one_hot_cv = vectorizer_whos.transform(X_cv['who'].values.astype(\"U\"))\n",
    "\n",
    "print(vectorizer_whos.get_feature_names())\n",
    "\n",
    "print(\"Shape of matrix after one hot encoding \",whos_one_hot_train.shape)\n",
    "print(\"Shape of matrix after one hot encoding \",whos_one_hot_test.shape)\n",
    "print(\"Shape of matrix after one hot encoding \",whos_one_hot_cv.shape)"
   ]
  },
  {
   "cell_type": "code",
   "execution_count": 7,
   "metadata": {},
   "outputs": [
    {
     "name": "stdout",
     "output_type": "stream",
     "text": [
      "['False', 'True']\n",
      "Shape of matrix after one hot encoding  (436, 2)\n",
      "Shape of matrix after one hot encoding  (268, 2)\n",
      "Shape of matrix after one hot encoding  (187, 2)\n"
     ]
    }
   ],
   "source": [
    "my_counter = Counter()\n",
    "for adult_males in tit['adult_male'].values:\n",
    "    adult_males = str(adult_males)\n",
    "    my_counter.update(adult_males.split())\n",
    "adult_males_dict = dict(my_counter)\n",
    "sorted_adult_males_dict = dict(sorted(adult_males_dict.items(), key=lambda kv: kv[1]))\n",
    "vectorizer_adult_males = CountVectorizer(vocabulary=list(sorted_adult_males_dict.keys()), lowercase=False, binary=True)\n",
    "vectorizer_adult_males.fit(X_train['adult_male'].values.astype(\"U\"))\n",
    "adult_males_one_hot_train = vectorizer_adult_males.transform(X_train['adult_male'].values.astype(\"U\"))\n",
    "adult_males_one_hot_test = vectorizer_adult_males.transform(X_test['adult_male'].values.astype(\"U\"))\n",
    "adult_males_one_hot_cv = vectorizer_adult_males.transform(X_cv['adult_male'].values.astype(\"U\"))\n",
    "\n",
    "print(vectorizer_adult_males.get_feature_names())\n",
    "\n",
    "print(\"Shape of matrix after one hot encoding \",adult_males_one_hot_train.shape)\n",
    "print(\"Shape of matrix after one hot encoding \",adult_males_one_hot_test.shape)\n",
    "print(\"Shape of matrix after one hot encoding \",adult_males_one_hot_cv.shape)"
   ]
  },
  {
   "cell_type": "code",
   "execution_count": 8,
   "metadata": {},
   "outputs": [
    {
     "name": "stdout",
     "output_type": "stream",
     "text": [
      "['G', 'F', 'A', 'E', 'D', 'B', 'C', 'nan']\n",
      "Shape of matrix after one hot encoding  (436, 8)\n",
      "Shape of matrix after one hot encoding  (268, 8)\n",
      "Shape of matrix after one hot encoding  (187, 8)\n"
     ]
    }
   ],
   "source": [
    "my_counter = Counter()\n",
    "for decks in tit['deck'].values:\n",
    "    decks = str(decks)\n",
    "    my_counter.update(decks.split())\n",
    "decks_dict = dict(my_counter)\n",
    "sorted_decks_dict = dict(sorted(decks_dict.items(), key=lambda kv: kv[1]))\n",
    "vectorizer_decks = CountVectorizer(vocabulary=list(sorted_decks_dict.keys()), lowercase=False, binary=True)\n",
    "vectorizer_decks.fit(X_train['deck'].values.astype(\"U\"))\n",
    "decks_one_hot_train = vectorizer_decks.transform(X_train['deck'].values.astype(\"U\"))\n",
    "decks_one_hot_test = vectorizer_decks.transform(X_test['deck'].values.astype(\"U\"))\n",
    "decks_one_hot_cv = vectorizer_decks.transform(X_cv['deck'].values.astype(\"U\"))\n",
    "\n",
    "print(vectorizer_decks.get_feature_names())\n",
    "\n",
    "print(\"Shape of matrix after one hot encoding \",decks_one_hot_train.shape)\n",
    "print(\"Shape of matrix after one hot encoding \",decks_one_hot_test.shape)\n",
    "print(\"Shape of matrix after one hot encoding \",decks_one_hot_cv.shape)"
   ]
  },
  {
   "cell_type": "code",
   "execution_count": 9,
   "metadata": {},
   "outputs": [],
   "source": [
    "tit.drop(['pclass'], axis=1, inplace=True)"
   ]
  },
  {
   "cell_type": "code",
   "execution_count": 10,
   "metadata": {},
   "outputs": [],
   "source": [
    "tit.drop(['survived'], axis=1, inplace=True)"
   ]
  },
  {
   "cell_type": "code",
   "execution_count": 11,
   "metadata": {},
   "outputs": [
    {
     "data": {
      "text/html": [
       "<div>\n",
       "<style scoped>\n",
       "    .dataframe tbody tr th:only-of-type {\n",
       "        vertical-align: middle;\n",
       "    }\n",
       "\n",
       "    .dataframe tbody tr th {\n",
       "        vertical-align: top;\n",
       "    }\n",
       "\n",
       "    .dataframe thead th {\n",
       "        text-align: right;\n",
       "    }\n",
       "</style>\n",
       "<table border=\"1\" class=\"dataframe\">\n",
       "  <thead>\n",
       "    <tr style=\"text-align: right;\">\n",
       "      <th></th>\n",
       "      <th>sex</th>\n",
       "      <th>age</th>\n",
       "      <th>sibsp</th>\n",
       "      <th>parch</th>\n",
       "      <th>fare</th>\n",
       "      <th>embarked</th>\n",
       "      <th>class</th>\n",
       "      <th>who</th>\n",
       "      <th>adult_male</th>\n",
       "      <th>deck</th>\n",
       "      <th>embark_town</th>\n",
       "      <th>alive</th>\n",
       "      <th>alone</th>\n",
       "    </tr>\n",
       "  </thead>\n",
       "  <tbody>\n",
       "    <tr>\n",
       "      <th>0</th>\n",
       "      <td>male</td>\n",
       "      <td>22.0</td>\n",
       "      <td>1</td>\n",
       "      <td>0</td>\n",
       "      <td>7.2500</td>\n",
       "      <td>S</td>\n",
       "      <td>Third</td>\n",
       "      <td>man</td>\n",
       "      <td>True</td>\n",
       "      <td>NaN</td>\n",
       "      <td>Southampton</td>\n",
       "      <td>no</td>\n",
       "      <td>False</td>\n",
       "    </tr>\n",
       "    <tr>\n",
       "      <th>1</th>\n",
       "      <td>female</td>\n",
       "      <td>38.0</td>\n",
       "      <td>1</td>\n",
       "      <td>0</td>\n",
       "      <td>71.2833</td>\n",
       "      <td>C</td>\n",
       "      <td>First</td>\n",
       "      <td>woman</td>\n",
       "      <td>False</td>\n",
       "      <td>C</td>\n",
       "      <td>Cherbourg</td>\n",
       "      <td>yes</td>\n",
       "      <td>False</td>\n",
       "    </tr>\n",
       "    <tr>\n",
       "      <th>2</th>\n",
       "      <td>female</td>\n",
       "      <td>26.0</td>\n",
       "      <td>0</td>\n",
       "      <td>0</td>\n",
       "      <td>7.9250</td>\n",
       "      <td>S</td>\n",
       "      <td>Third</td>\n",
       "      <td>woman</td>\n",
       "      <td>False</td>\n",
       "      <td>NaN</td>\n",
       "      <td>Southampton</td>\n",
       "      <td>yes</td>\n",
       "      <td>True</td>\n",
       "    </tr>\n",
       "    <tr>\n",
       "      <th>3</th>\n",
       "      <td>female</td>\n",
       "      <td>35.0</td>\n",
       "      <td>1</td>\n",
       "      <td>0</td>\n",
       "      <td>53.1000</td>\n",
       "      <td>S</td>\n",
       "      <td>First</td>\n",
       "      <td>woman</td>\n",
       "      <td>False</td>\n",
       "      <td>C</td>\n",
       "      <td>Southampton</td>\n",
       "      <td>yes</td>\n",
       "      <td>False</td>\n",
       "    </tr>\n",
       "    <tr>\n",
       "      <th>4</th>\n",
       "      <td>male</td>\n",
       "      <td>35.0</td>\n",
       "      <td>0</td>\n",
       "      <td>0</td>\n",
       "      <td>8.0500</td>\n",
       "      <td>S</td>\n",
       "      <td>Third</td>\n",
       "      <td>man</td>\n",
       "      <td>True</td>\n",
       "      <td>NaN</td>\n",
       "      <td>Southampton</td>\n",
       "      <td>no</td>\n",
       "      <td>True</td>\n",
       "    </tr>\n",
       "  </tbody>\n",
       "</table>\n",
       "</div>"
      ],
      "text/plain": [
       "      sex   age  sibsp  parch     fare embarked  class    who  adult_male  \\\n",
       "0    male  22.0      1      0   7.2500        S  Third    man        True   \n",
       "1  female  38.0      1      0  71.2833        C  First  woman       False   \n",
       "2  female  26.0      0      0   7.9250        S  Third  woman       False   \n",
       "3  female  35.0      1      0  53.1000        S  First  woman       False   \n",
       "4    male  35.0      0      0   8.0500        S  Third    man        True   \n",
       "\n",
       "  deck  embark_town alive  alone  \n",
       "0  NaN  Southampton    no  False  \n",
       "1    C    Cherbourg   yes  False  \n",
       "2  NaN  Southampton   yes   True  \n",
       "3    C  Southampton   yes  False  \n",
       "4  NaN  Southampton    no   True  "
      ]
     },
     "execution_count": 11,
     "metadata": {},
     "output_type": "execute_result"
    }
   ],
   "source": [
    "tit.head()"
   ]
  },
  {
   "cell_type": "code",
   "execution_count": 12,
   "metadata": {},
   "outputs": [
    {
     "name": "stdout",
     "output_type": "stream",
     "text": [
      "After vectorizations\n",
      "(436, 1) (436,)\n",
      "(187, 1) (187,)\n",
      "(268, 1) (268,)\n",
      "====================================================================================================\n"
     ]
    }
   ],
   "source": [
    "from sklearn.preprocessing import Normalizer\n",
    "normalizer = Normalizer()\n",
    "normalizer.fit(X_train['fare'].values.reshape(-1,1))\n",
    "fare_train = normalizer.transform(X_train['fare'].values.reshape(-1,1))\n",
    "fare_cv = normalizer.transform(X_cv['fare'].values.reshape(-1,1))\n",
    "fare_test = normalizer.transform(X_test['fare'].values.reshape(-1,1))\n",
    "print(\"After vectorizations\")\n",
    "print(fare_train.shape, y_train.shape)\n",
    "print(fare_cv.shape, y_cv.shape)\n",
    "print(fare_test.shape, y_test.shape)\n",
    "print(\"=\"*100)"
   ]
  },
  {
   "cell_type": "code",
   "execution_count": 13,
   "metadata": {},
   "outputs": [],
   "source": [
    "# merge two sparse matrices: https://stackoverflow.com/a/19710648/4084039\n",
    "from scipy.sparse import hstack\n",
    "\n",
    "X_tr = hstack((classs_one_hot_train,whos_one_hot_train,adult_males_one_hot_train,fare_train,decks_one_hot_train)).tocsr()\n",
    "X_te = hstack((classs_one_hot_test,whos_one_hot_test,adult_males_one_hot_test,fare_test,decks_one_hot_test)).tocsr()\n",
    "X_cr = hstack((classs_one_hot_cv,whos_one_hot_cv,adult_males_one_hot_cv,fare_cv,decks_one_hot_cv)).tocsr()"
   ]
  },
  {
   "cell_type": "code",
   "execution_count": 24,
   "metadata": {},
   "outputs": [],
   "source": [
    "import numpy as np\n",
    "import pandas as pd\n",
    "import math\n",
    "import matplotlib.pyplot as plt\n",
    "from sklearn.model_selection  import train_test_split\n",
    "from sklearn.metrics import accuracy_score\n",
    "from sklearn.model_selection  import cross_val_score\n",
    "from collections import Counter\n",
    "from sklearn.metrics import accuracy_score\n",
    "from sklearn import model_selection\n",
    "from sklearn.metrics import roc_auc_score\n",
    "from sklearn.linear_model import LogisticRegression\n",
    "from sklearn.preprocessing import StandardScaler\n",
    "from sklearn.model_selection import GridSearchCV\n"
   ]
  },
  {
   "cell_type": "code",
   "execution_count": 33,
   "metadata": {},
   "outputs": [
    {
     "data": {
      "image/png": "[encoded data removed]",
      "text/plain": [
       "<Figure size 432x288 with 1 Axes>"
      ]
     },
     "metadata": {
      "needs_background": "light"
     },
     "output_type": "display_data"
    },
    {
     "name": "stdout",
     "output_type": "stream",
     "text": [
      "optimal lambda for which auc is maximum :  99.0\n"
     ]
    }
   ],
   "source": [
    "C = [10**-3, 10**-2, 10**0, 10**2,10**3,10**4]#C=1/lambda\n",
    "auc_train=[]\n",
    "auc_cv=[]\n",
    "for c in C:\n",
    "    lr=LogisticRegression(penalty='l1',C=c)\n",
    "    lr.fit(X_tr,y_train)\n",
    "    probcv=lr.predict_proba(X_cr)[:,1]\n",
    "    auc_cv.append(roc_auc_score(y_cv,probcv))\n",
    "    probtr=lr.predict_proba(X_tr)[:,1]\n",
    "    auc_train.append(roc_auc_score(y_train,probtr))\n",
    "optimal_c= C[auc_cv.index(max(auc_cv))]\n",
    "C=[math.log(x) for x in C]#converting values of C into logarithm\n",
    "fig = plt.figure()\n",
    "ax = plt.subplot(111)\n",
    "ax.plot(C, auc_train, label='AUC train')\n",
    "ax.plot(C, auc_cv, label='AUC CV')\n",
    "plt.title('AUC vs hyperparameter')\n",
    "plt.xlabel('C (1/lambda)')\n",
    "plt.ylabel('AUC')\n",
    "ax.legend()\n",
    "plt.show()\n",
    "print('optimal lambda for which auc is maximum : ',1//optimal_c)\n"
   ]
  },
  {
   "cell_type": "code",
   "execution_count": 34,
   "metadata": {},
   "outputs": [
    {
     "data": {
      "image/png": "[encoded data removed]",
      "text/plain": [
       "<Figure size 432x288 with 2 Axes>"
      ]
     },
     "metadata": {
      "needs_background": "light"
     },
     "output_type": "display_data"
    }
   ],
   "source": [
    "\n",
    "from sklearn.metrics import confusion_matrix\n",
    "lr=LogisticRegression(penalty='l1',C=optimal_c)\n",
    "lr.fit(X_tr,y_train)\n",
    "predic=lr.predict(X_te)\n",
    "import seaborn as sns\n",
    "conf_mat = confusion_matrix(y_test, predic)\n",
    "class_label = [\"negative\", \"positive\"]\n",
    "df = pd.DataFrame(conf_mat, index = class_label, columns = class_label)\n",
    "sns.heatmap(df, annot = True,fmt=\"d\")\n",
    "plt.title(\"Confusion Matrix\")\n",
    "plt.xlabel(\"Predicted Label\")\n",
    "plt.ylabel(\"True Label\")\n",
    "plt.show()"
   ]
  },
  {
   "cell_type": "code",
   "execution_count": null,
   "metadata": {},
   "outputs": [],
   "source": []
  }
 ],
 "metadata": {
  "kernelspec": {
   "display_name": "Python 3",
   "language": "python",
   "name": "python3"
  },
  "language_info": {
   "codemirror_mode": {
    "name": "ipython",
    "version": 3
   },
   "file_extension": ".py",
   "mimetype": "text/x-python",
   "name": "python",
   "nbconvert_exporter": "python",
   "pygments_lexer": "ipython3",
   "version": "3.7.3"
  }
 },
 "nbformat": 4,
 "nbformat_minor": 2
}
